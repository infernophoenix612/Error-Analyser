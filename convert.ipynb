{
 "cells": [
  {
   "cell_type": "code",
   "execution_count": null,
   "metadata": {},
   "outputs": [],
   "source": [
    "import pandas as pd\n",
    "import matplotlib as plt \n",
    "\n",
    "hourly_data = pd.read_csv(\"C:/Users/nvarshney014/OneDrive - PwC/Desktop/Project/Data/PdM_telemetry.csv\")\n",
    "error_data = pd.read_csv(\"C:/Users/nvarshney014/OneDrive - PwC/Desktop/Project/Data/PdM_failures.csv\")\n"
   ]
  },
  {
   "cell_type": "code",
   "execution_count": null,
   "metadata": {},
   "outputs": [],
   "source": [
    "\n",
    "v  = len(hourly_data)\n",
    "M = {}\n",
    "for i in range ( v ) :\n",
    "    da , ti = hourly_data['datetime'][i].split()\n",
    "    mid = hourly_data['machineID'][i]\n",
    "    vo  = hourly_data['volt'][i]\n",
    "    ro  = hourly_data['rotate'][i]\n",
    "    pr  = hourly_data['pressure'][i]\n",
    "    vi  = hourly_data['vibration'][i]\n",
    "    \n",
    "    if mid not in M : M[mid] =  {}\n",
    "    if da not in M[mid] : M[mid][da] = []\n",
    "\n",
    "    M[mid][da] += [ [ vo,ro,pr,vi ] ]\n",
    "\n",
    "L = {}\n",
    "u = len(error_data)\n",
    "for i in range ( u ) :\n",
    "    da , ti = error_data['datetime'][i].split()\n",
    "\n",
    "    mid = error_data['machineID'][i]\n",
    "    er  = error_data['failure'][i][4:]\n",
    "    \n",
    "    if mid not in L : L[mid] =  {}\n",
    "    if da not in L[mid] : L[mid][da] = er\n",
    "\n",
    "\n",
    "\n",
    "\n",
    "D = []\n",
    "for mid in M :\n",
    "    for da in M[mid] :\n",
    "        vo = sum ( [ a[0] for a in M[mid][da] ] ) / len(M[mid][da])\n",
    "        ro = sum ( [ a[1] for a in M[mid][da] ] ) / len(M[mid][da])\n",
    "        pr = sum ( [ a[2] for a in M[mid][da] ] ) / len(M[mid][da])\n",
    "        vi = sum ( [ a[3] for a in M[mid][da] ] ) / len(M[mid][da])\n",
    "\n",
    "        if mid not in L : L[mid] =  {}\n",
    "        if da not in L[mid] : L[mid][da] = \"0\"\n",
    "        er = L[mid][da]\n",
    "\n",
    "        D .append( [da,mid,vo,ro,pr,vi,er] )\n",
    "\n"
   ]
  },
  {
   "cell_type": "code",
   "execution_count": null,
   "metadata": {},
   "outputs": [],
   "source": [
    "c = [\"date\", \"machineID\", \"volt\", \"rotate\", \"pressure\", \"vibration\", \"failure\"]\n",
    "\n",
    "df = pd.DataFrame(D, columns=c)\n",
    "filename = 'C:/Users/nvarshney014/Desktop/Project/Data/output.csv'\n",
    "df.to_csv(filename, index=False)"
   ]
  }
 ],
 "metadata": {
  "kernelspec": {
   "display_name": "Python 3",
   "language": "python",
   "name": "python3"
  },
  "language_info": {
   "codemirror_mode": {
    "name": "ipython",
    "version": 3
   },
   "file_extension": ".py",
   "mimetype": "text/x-python",
   "name": "python",
   "nbconvert_exporter": "python",
   "pygments_lexer": "ipython3",
   "version": "3.11.1"
  }
 },
 "nbformat": 4,
 "nbformat_minor": 2
}
