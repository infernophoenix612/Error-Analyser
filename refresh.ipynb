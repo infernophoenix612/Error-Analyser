{
 "cells": [
  {
   "cell_type": "code",
   "execution_count": null,
   "metadata": {},
   "outputs": [],
   "source": [
    "import datetime\n",
    "today = datetime.datetime.today()\n",
    "yesterday = today - datetime.timedelta(days=1)"
   ]
  },
  {
   "cell_type": "code",
   "execution_count": null,
   "metadata": {},
   "outputs": [],
   "source": [
    "import pandas as pd\n",
    "output_data = pd.read_csv('C:/Users/nvarshney014/OneDrive - PwC/Desktop/Project/Data/output.csv')"
   ]
  },
  {
   "cell_type": "code",
   "execution_count": null,
   "metadata": {},
   "outputs": [],
   "source": [
    "lengt = len(output_data[\"volt\"])\n",
    "last_date = output_data[\"date\"][lengt-1]\n",
    "last_date = datetime.datetime.strptime(last_date , \"%d/%m/%Y\")\n",
    "delta = (yesterday - last_date).days\n",
    "print(delta)"
   ]
  },
  {
   "cell_type": "code",
   "execution_count": null,
   "metadata": {},
   "outputs": [],
   "source": [
    "f = open(\"./output.csv\",\"w\")\n",
    "\n",
    "parameters =  [ \"machineID\" ,\"volt\" , \"rotate\", \"pressure\" , \"vibration\" , \"failure\" ]\n",
    "f.write(\"date,\"+','.join(parameters)+'\\n')\n",
    "for i in range ( lengt ) :\n",
    "    dato = output_data[\"date\"][i]\n",
    "    dato = datetime.datetime.strptime(dato , \"%d/%m/%Y\")\n",
    "    dato = dato + datetime.timedelta(days=delta)\n",
    "    dato  = dato.strftime(\"%d/%m/%Y\")\n",
    "    s = dato + \",\"\n",
    "    for para in parameters :\n",
    "        s += str(output_data[para][i]) + \",\"\n",
    "    s = s[:-1] + '\\n'\n",
    "    f.write(s)\n",
    "    "
   ]
  },
  {
   "cell_type": "code",
   "execution_count": null,
   "metadata": {},
   "outputs": [],
   "source": [
    "f.close()"
   ]
  }
 ],
 "metadata": {
  "kernelspec": {
   "display_name": "Python 3",
   "language": "python",
   "name": "python3"
  },
  "language_info": {
   "codemirror_mode": {
    "name": "ipython",
    "version": 3
   },
   "file_extension": ".py",
   "mimetype": "text/x-python",
   "name": "python",
   "nbconvert_exporter": "python",
   "pygments_lexer": "ipython3",
   "version": "3.11.1"
  }
 },
 "nbformat": 4,
 "nbformat_minor": 2
}
